{
 "cells": [
  {
   "cell_type": "code",
   "execution_count": 53,
   "metadata": {},
   "outputs": [
    {
     "name": "stdout",
     "output_type": "stream",
     "text": [
      "102\n",
      "103 102\n"
     ]
    }
   ],
   "source": [
    "import pandas\n",
    "df = pandas.read_csv('military.csv',index_col =\"stateabb\")\n",
    "milex = df[['year','milex']]\n",
    "\n",
    "USA = milex.loc['USA']\n",
    "MEX = milex.loc['MEX']\n",
    "FRN = milex.loc['FRN']\n",
    "CHN = milex.loc['CHN']\n",
    "\n",
    "US_EX = USA['milex'].values.tolist()\n",
    "MEX_EX = MEX['milex'].values.tolist()\n",
    "US_YEAR = USA['year'].values.tolist()\n",
    "MEX_YEAR = MEX['year'].values.tolist()\n",
    "\n",
    "FRN_EX = FRN['milex'].values.tolist()\n",
    "CHN_EX = CHN['milex'].values.tolist()\n",
    "FRN_YEAR = FRN['year'].values.tolist()\n",
    "CHN_YEAR = CHN['year'].values.tolist()\n",
    "\n",
    "\n",
    "US_YEAR = US_YEAR[94:]\n",
    "US_EX = US_EX[94:]\n",
    "MEX_YEAR = MEX_YEAR[79:]\n",
    "MEX_EX = MEX_EX[79:]\n",
    "\n",
    "CHN_YEAR = CHN_YEAR[50:]\n",
    "CHN_EX = CHN_EX[50:]\n",
    "FRN_YEAR = FRN_YEAR[94:]\n",
    "print(len(FRN_YEAR))\n",
    "FRN_EX = FRN_EX[94:]\n",
    "print(len(CHN_EX), len(FRN_EX))\n",
    "\n",
    "dic = zip(US_YEAR, US_EX, MEX_EX)\n",
    "\n",
    "import csv\n",
    "with open('mil.csv', 'w', newline='') as file:\n",
    "    writer = csv.writer(file)\n",
    "    writer.writerow([\"Year\", \"USA\", \"Mexico\",\"China\"])\n",
    "    for i in range(103):\n",
    "        \n",
    "        writer.writerow([str(US_YEAR[i]), str(US_EX[i]), str(MEX_EX[i]),str(CHN_EX[i])])"
   ]
  },
  {
   "cell_type": "code",
   "execution_count": null,
   "metadata": {},
   "outputs": [],
   "source": []
  }
 ],
 "metadata": {
  "kernelspec": {
   "display_name": "Python 3",
   "language": "python",
   "name": "python3"
  },
  "language_info": {
   "codemirror_mode": {
    "name": "ipython",
    "version": 3
   },
   "file_extension": ".py",
   "mimetype": "text/x-python",
   "name": "python",
   "nbconvert_exporter": "python",
   "pygments_lexer": "ipython3",
   "version": "3.6.5"
  }
 },
 "nbformat": 4,
 "nbformat_minor": 2
}
